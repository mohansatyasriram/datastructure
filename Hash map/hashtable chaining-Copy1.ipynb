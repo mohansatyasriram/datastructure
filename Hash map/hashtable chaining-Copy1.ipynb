{
 "cells": [
  {
   "cell_type": "code",
   "execution_count": 1,
   "id": "d5e990fc",
   "metadata": {},
   "outputs": [],
   "source": [
    "class hashtable:\n",
    "    def __init__(self):\n",
    "        self.max=10\n",
    "        self.arr=[[] for i in range(self.max)]\n",
    "    def get_hash(self,key):\n",
    "        h=0\n",
    "        for i in key:\n",
    "          h+=ord(i)\n",
    "        return h%10\n",
    "    def get(self,key):\n",
    "        h=self.get_hash(key)\n",
    "        for element in self.arr[h]:\n",
    "            if(key==element[0]):\n",
    "                return element[1]\n",
    "    def set(self,key,val):\n",
    "        h=self.get_hash(key)\n",
    "        found=False\n",
    "        for idx,element in enumerate(self.arr[h]):\n",
    "            if(len(element)==2 and element[0]==key):\n",
    "                self.arr[h][idx]=(key,val)# it may used for the same value of key'\n",
    "                found=True\n",
    "        if not found:\n",
    "            self.arr[h].append((key,val))      \n",
    "    def delete(self,key):\n",
    "        h=self.get_hash(key)\n",
    "        for i,element in enumerate(self.arr[h]):\n",
    "            if(element[0]==key):\n",
    "                del self.arr[h][i]"
   ]
  },
  {
   "cell_type": "code",
   "execution_count": 2,
   "id": "0b491786",
   "metadata": {},
   "outputs": [
    {
     "data": {
      "text/plain": [
       "25"
      ]
     },
     "execution_count": 2,
     "metadata": {},
     "output_type": "execute_result"
    }
   ],
   "source": [
    "t=hashtable()\n",
    "t.set('march 6',92)\n",
    "t.set('march 17',81)\n",
    "t.set('march 11',9)\n",
    "t.set('march 6',50)\n",
    "t.delete('march 6')\n",
    "t.set('march 6',25)\n",
    "t.get('march 6')\n"
   ]
  },
  {
   "cell_type": "code",
   "execution_count": null,
   "id": "63cf8150",
   "metadata": {},
   "outputs": [],
   "source": []
  },
  {
   "cell_type": "code",
   "execution_count": 12,
   "id": "a13a2967",
   "metadata": {},
   "outputs": [
    {
     "data": {
      "text/plain": [
       "[[],\n",
       " [],\n",
       " [],\n",
       " [('march 11', 9)],\n",
       " [],\n",
       " [],\n",
       " [],\n",
       " [],\n",
       " [],\n",
       " [('march 17', 81), ('march 6', 25)]]"
      ]
     },
     "execution_count": 12,
     "metadata": {},
     "output_type": "execute_result"
    }
   ],
   "source": [
    "t.arr"
   ]
  },
  {
   "cell_type": "code",
   "execution_count": null,
   "id": "95b1a698",
   "metadata": {},
   "outputs": [],
   "source": []
  }
 ],
 "metadata": {
  "kernelspec": {
   "display_name": "Python 3 (ipykernel)",
   "language": "python",
   "name": "python3"
  },
  "language_info": {
   "codemirror_mode": {
    "name": "ipython",
    "version": 3
   },
   "file_extension": ".py",
   "mimetype": "text/x-python",
   "name": "python",
   "nbconvert_exporter": "python",
   "pygments_lexer": "ipython3",
   "version": "3.10.9"
  }
 },
 "nbformat": 4,
 "nbformat_minor": 5
}
