{
 "cells": [
  {
   "cell_type": "code",
   "execution_count": 39,
   "id": "ff90b14d",
   "metadata": {},
   "outputs": [],
   "source": [
    "class hashtable:\n",
    "    def __init__(self):\n",
    "        self.max=10\n",
    "        self.arr=[None for i in range(self.max)]\n",
    "    def get_index(self,key):\n",
    "        h=0\n",
    "        for i in key:\n",
    "            h+=ord(i)\n",
    "        return h%10    \n",
    "    def insert(self,key,val):\n",
    "        h=self.get_index(key)\n",
    "        original_h=h\n",
    "        found=False\n",
    "        while  self.arr[h] is not None:\n",
    "            if(self.arr[h][0]==key):\n",
    "                self.arr[h][1]=val\n",
    "                found=True\n",
    "                break\n",
    "            h+=1\n",
    "            h=h%10\n",
    "            if(original_h==h):\n",
    "                raise Exception('not sufficient memory')\n",
    "        if not found:            \n",
    "            self.arr[h]=(key,val)\n",
    "    def get(self,key):\n",
    "        h=self.get_index(key)\n",
    "        original_h=h\n",
    "        return self.arr[h]    \n",
    "    def delete(self,key):\n",
    "        h=self.get_index(key)\n",
    "        original_h=h\n",
    "        while(self.arr[h][0]!=key):\n",
    "            h+=1\n",
    "            h=h%10\n",
    "            if(original_h==h):\n",
    "                raise Exception ('there is no key')\n",
    "        self.arr[h]=None        \n",
    "                "
   ]
  },
  {
   "cell_type": "code",
   "execution_count": 40,
   "id": "286e4b4a",
   "metadata": {},
   "outputs": [],
   "source": [
    "t=hashtable()\n",
    "t.insert('march 6',52)\n",
    "t.insert('march 17',25)\n",
    "t.insert('march 8',12)\n",
    "t.get('march 6')\n",
    "t.delete('march 17')"
   ]
  },
  {
   "cell_type": "code",
   "execution_count": 41,
   "id": "16952443",
   "metadata": {},
   "outputs": [
    {
     "data": {
      "text/plain": [
       "[None,\n",
       " ('march 8', 12),\n",
       " None,\n",
       " None,\n",
       " None,\n",
       " None,\n",
       " None,\n",
       " None,\n",
       " None,\n",
       " ('march 6', 52)]"
      ]
     },
     "execution_count": 41,
     "metadata": {},
     "output_type": "execute_result"
    }
   ],
   "source": [
    "t.arr"
   ]
  },
  {
   "cell_type": "code",
   "execution_count": null,
   "id": "1f8439ba",
   "metadata": {},
   "outputs": [],
   "source": []
  }
 ],
 "metadata": {
  "kernelspec": {
   "display_name": "Python 3 (ipykernel)",
   "language": "python",
   "name": "python3"
  },
  "language_info": {
   "codemirror_mode": {
    "name": "ipython",
    "version": 3
   },
   "file_extension": ".py",
   "mimetype": "text/x-python",
   "name": "python",
   "nbconvert_exporter": "python",
   "pygments_lexer": "ipython3",
   "version": "3.10.9"
  }
 },
 "nbformat": 4,
 "nbformat_minor": 5
}
